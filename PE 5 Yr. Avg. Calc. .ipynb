{
 "cells": [
  {
   "cell_type": "code",
   "execution_count": 85,
   "metadata": {},
   "outputs": [
    {
     "name": "stdout",
     "output_type": "stream",
     "text": [
      "What is the full name of the Company?:disney\n",
      "What is the Ticker Symbol of the Company?:dis\n"
     ]
    }
   ],
   "source": [
    "# Load Pandas\n",
    "import pandas as pd\n",
    "\n",
    "company_name= (input(\"What is the full name of the Company?:\").lower())\n",
    "\n",
    "ticker = input(\"What is the Ticker Symbol of the Company?:\").upper()\n",
    "\n",
    "company_name_with_hyphens = company_name.replace(' ','-')\n",
    "\n",
    "company_title = company_name.title()\n",
    "\n",
    "pe_url = \"https://www.macrotrends.net/stocks/charts/{t}/{c}/pe-ratio\".format(t=ticker,c=company_name_with_hyphens)\n",
    "\n",
    "df = pd.read_html(pe_url)\n",
    "\n"
   ]
  },
  {
   "cell_type": "code",
   "execution_count": 86,
   "metadata": {},
   "outputs": [],
   "source": [
    "df[0].to_csv('5_Year_Avg_PE',index=False)"
   ]
  },
  {
   "cell_type": "code",
   "execution_count": 87,
   "metadata": {},
   "outputs": [],
   "source": [
    "PE_df = pd.read_csv('5_Year_Avg_PE')"
   ]
  },
  {
   "cell_type": "code",
   "execution_count": 88,
   "metadata": {},
   "outputs": [],
   "source": [
    "FiveYearPEs = PE_df['{ct} PE Ratio Historical Data.3'.format(ct=company_title)][1:21]"
   ]
  },
  {
   "cell_type": "code",
   "execution_count": 89,
   "metadata": {},
   "outputs": [],
   "source": [
    "PE_list = []\n",
    "for item in FiveYearPEs:\n",
    "    PE_list.append(item)"
   ]
  },
  {
   "cell_type": "code",
   "execution_count": 90,
   "metadata": {},
   "outputs": [],
   "source": [
    "float_list_sum = sum(map(float,PE_list))"
   ]
  },
  {
   "cell_type": "code",
   "execution_count": 91,
   "metadata": {},
   "outputs": [],
   "source": [
    "Avg_5yr_PE = (float_list_sum)/20"
   ]
  },
  {
   "cell_type": "code",
   "execution_count": 92,
   "metadata": {},
   "outputs": [],
   "source": [
    "Five_Yr_Max = max(map(float,PE_list))\n"
   ]
  },
  {
   "cell_type": "code",
   "execution_count": 93,
   "metadata": {},
   "outputs": [],
   "source": [
    "Five_Yr_Min = min(map(float,PE_list))\n"
   ]
  },
  {
   "cell_type": "code",
   "execution_count": 94,
   "metadata": {},
   "outputs": [],
   "source": [
    "# Growth Estimates"
   ]
  },
  {
   "cell_type": "code",
   "execution_count": 95,
   "metadata": {},
   "outputs": [],
   "source": [
    "##################    UPDATE ME    #################\n",
    "# Current PE Ratio for PEG Calculation\n",
    "Current_PE = float(PE_df['{ct} PE Ratio Historical Data.3'.format(ct=company_title)][1])"
   ]
  },
  {
   "cell_type": "code",
   "execution_count": 96,
   "metadata": {},
   "outputs": [],
   "source": [
    "##################    UPDATE ME    ################# NEEDS FIXIN 2/6/21\n",
    "# Yahoo Finance Estimate\n",
    "df2 = pd.read_html('https://finance.yahoo.com/quote/{x}/analysis?p={y}'.format(x=ticker,y=ticker))"
   ]
  },
  {
   "cell_type": "code",
   "execution_count": 97,
   "metadata": {},
   "outputs": [],
   "source": [
    "df2[5].to_csv('Yahoo_Finance_Growth_Estimate',index=False)"
   ]
  },
  {
   "cell_type": "code",
   "execution_count": 98,
   "metadata": {},
   "outputs": [],
   "source": [
    "Yahoo_df = pd.read_csv('Yahoo_Finance_Growth_Estimate')"
   ]
  },
  {
   "cell_type": "code",
   "execution_count": 99,
   "metadata": {},
   "outputs": [],
   "source": [
    "##################    UPDATE ME    #################\n",
    "YF_5_Yr_Growth_Estimate = float(Yahoo_df['{x}'.format(x=ticker)][4][:-1])"
   ]
  },
  {
   "cell_type": "code",
   "execution_count": 100,
   "metadata": {},
   "outputs": [
    {
     "data": {
      "text/plain": [
       "41.57"
      ]
     },
     "execution_count": 100,
     "metadata": {},
     "output_type": "execute_result"
    }
   ],
   "source": [
    "YF_5_Yr_Growth_Estimate"
   ]
  },
  {
   "cell_type": "code",
   "execution_count": 101,
   "metadata": {},
   "outputs": [],
   "source": [
    "PEG = Current_PE/YF_5_Yr_Growth_Estimate"
   ]
  },
  {
   "cell_type": "code",
   "execution_count": 102,
   "metadata": {},
   "outputs": [
    {
     "name": "stdout",
     "output_type": "stream",
     "text": [
      "Price to Earnings Ratio Historical Data:\n",
      "5 YR LOW:    0.0\n",
      "5 YR HIGH:   32.64\n",
      "5 YR AVG:    14.7065\n",
      " \n",
      "Current PE: 0.0\n",
      "5 Yr Growth Est: 41.57\n",
      "PEG RATIO:   0.0\n"
     ]
    }
   ],
   "source": [
    "print(\"Price to Earnings Ratio Historical Data:\")\n",
    "print(\"5 YR LOW:    {x}\".format(x=Five_Yr_Min))\n",
    "print(\"5 YR HIGH:   {x}\".format(x=Five_Yr_Max))\n",
    "print(\"5 YR AVG:    {x}\".format(x=Avg_5yr_PE))\n",
    "print(\" \")\n",
    "print(\"Current PE: {x}\".format(x=Current_PE))\n",
    "print(\"5 Yr Growth Est: {x}\".format(x=YF_5_Yr_Growth_Estimate))\n",
    "print(\"PEG RATIO:   {x}\".format(x=PEG))"
   ]
  },
  {
   "cell_type": "code",
   "execution_count": null,
   "metadata": {},
   "outputs": [],
   "source": []
  }
 ],
 "metadata": {
  "kernelspec": {
   "display_name": "Python 3",
   "language": "python",
   "name": "python3"
  },
  "language_info": {
   "codemirror_mode": {
    "name": "ipython",
    "version": 3
   },
   "file_extension": ".py",
   "mimetype": "text/x-python",
   "name": "python",
   "nbconvert_exporter": "python",
   "pygments_lexer": "ipython3",
   "version": "3.7.6"
  }
 },
 "nbformat": 4,
 "nbformat_minor": 4
}
