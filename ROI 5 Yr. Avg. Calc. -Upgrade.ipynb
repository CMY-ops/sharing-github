{
 "cells": [
  {
   "cell_type": "code",
   "execution_count": 8,
   "metadata": {},
   "outputs": [
    {
     "name": "stdout",
     "output_type": "stream",
     "text": [
      "What is the full name of the Company?:disney\n",
      "What is the Ticker Symbol of the Company?:dis\n",
      "\n",
      "Company Name: Disney\n",
      "Ticker: DIS\n",
      "ROI URL: https://www.macrotrends.net/stocks/charts/DIS/disney/roi\n",
      "\n",
      "Return on Investment Historical Data:\n",
      "1 YR AVERAGE: 3.2199999999999998\n",
      "5 YR AVERAGE: 16.720000000000002\n"
     ]
    }
   ],
   "source": [
    "import pandas as pd\n",
    "\n",
    "company_name= (input(\"What is the full name of the Company?:\").lower())\n",
    "\n",
    "ticker = input(\"What is the Ticker Symbol of the Company?:\").upper()\n",
    "\n",
    "company_name_with_hyphens = company_name.replace(' ','-')\n",
    "\n",
    "company_title = company_name.title()\n",
    "\n",
    "roi_url = \"https://www.macrotrends.net/stocks/charts/{t}/{c}/roi\".format(t=ticker,c=company_name_with_hyphens)\n",
    "\n",
    "df = pd.read_html(df_url)\n",
    "\n",
    "df[0].to_csv('5_Year_Avg_ROI',index=False)\n",
    "\n",
    "ROI_df = pd.read_csv('5_Year_Avg_ROI')\n",
    "\n",
    "FiveYearROIs = ROI_df['{ct} ROI - Return on Investment Historical Data.3'.format(ct=company_title)][1:21]\n",
    "\n",
    "Five_Yr_ROI_list = []\n",
    "for item in FiveYearROIs:\n",
    "    Five_Yr_ROI_list.append(item)\n",
    "    \n",
    "ROI_No_Percent_Sign_5_List = [x[:-1] for x in Five_Yr_ROI_list]\n",
    "\n",
    "float_list_sum_5 = sum(map(float,ROI_No_Percent_Sign_5_List))\n",
    "\n",
    "Avg_5yr_ROI = (float_list_sum_5)/20\n",
    "\n",
    "OneYearROIs = ROI_df['{ct} ROI - Return on Investment Historical Data.3'.format(ct=company_title)][1:5]\n",
    "\n",
    "One_Yr_ROI_list = []\n",
    "for item in OneYearROIs:\n",
    "    One_Yr_ROI_list.append(item)\n",
    "    \n",
    "ROI_No_Percent_Sign_1_List = [x[:-1] for x in One_Yr_ROI_list]\n",
    "\n",
    "float_list_sum_1 = sum(map(float,ROI_No_Percent_Sign_1_List))\n",
    "\n",
    "Avg_1yr_ROI = (float_list_sum_1)/4\n",
    "\n",
    "print('')\n",
    "\n",
    "print(\"Company Name: {x}\".format(x=company_title))\n",
    "print(\"Ticker: {x}\".format(x=ticker))\n",
    "print(\"ROI URL: {x}\".format(x=roi_url))\n",
    "\n",
    "print('')\n",
    "\n",
    "print(\"Return on Investment Historical Data:\")\n",
    "print(\"1 YR AVERAGE: {x}\".format(x=Avg_1yr_ROI))\n",
    "print(\"5 YR AVERAGE: {x}\".format(x=Avg_5yr_ROI))"
   ]
  },
  {
   "cell_type": "code",
   "execution_count": null,
   "metadata": {},
   "outputs": [],
   "source": []
  }
 ],
 "metadata": {
  "kernelspec": {
   "display_name": "Python 3",
   "language": "python",
   "name": "python3"
  },
  "language_info": {
   "codemirror_mode": {
    "name": "ipython",
    "version": 3
   },
   "file_extension": ".py",
   "mimetype": "text/x-python",
   "name": "python",
   "nbconvert_exporter": "python",
   "pygments_lexer": "ipython3",
   "version": "3.7.6"
  }
 },
 "nbformat": 4,
 "nbformat_minor": 4
}
